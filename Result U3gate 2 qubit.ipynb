{
 "cells": [
  {
   "cell_type": "code",
   "execution_count": 1,
   "id": "29e04968",
   "metadata": {},
   "outputs": [],
   "source": [
    "#########H2_op.numqubit=2\n",
    "\n",
    "from qiskit.quantum_info import SparsePauliOp\n",
    "\n",
    "H2_op = SparsePauliOp.from_list(\n",
    "    [\n",
    "        (\"II\", -1.052373245772859),\n",
    "        (\"IZ\", 0.39793742484318045),\n",
    "        (\"ZI\", -0.39793742484318045),\n",
    "        (\"ZZ\", -0.01128010425623538),\n",
    "        (\"XX\", 0.18093119978423156),\n",
    "    ]\n",
    ")"
   ]
  },
  {
   "cell_type": "code",
   "execution_count": 2,
   "id": "add35427",
   "metadata": {},
   "outputs": [
    {
     "name": "stdout",
     "output_type": "stream",
     "text": [
      "       ┌──────────────────┐ \n",
      "q_0: ──┤ U(theta,phi,lam) ├─\n",
      "     ┌─┴──────────────────┴┐\n",
      "q_1: ┤ U(theta1,phi1,lam1) ├\n",
      "     └─────────────────────┘\n"
     ]
    }
   ],
   "source": [
    "#######Parameterized circuit\n",
    "\n",
    "from qiskit import QuantumCircuit, QuantumRegister\n",
    "from qiskit.circuit import Parameter\n",
    "\n",
    "params = [Parameter(\"theta\"), Parameter(\"phi\"), Parameter(\"lam\"), \n",
    "          Parameter(\"theta1\"), Parameter(\"phi1\"), Parameter(\"lam1\")]\n",
    "\n",
    "qr = QuantumRegister(2, name=\"q\")\n",
    "circ = QuantumCircuit(qr)\n",
    "circ.u(params[0], params[1], params[2], qr[0])\n",
    "circ.u(params[3], params[4], params[5], qr[1])\n",
    " \n",
    "print(circ)"
   ]
  },
  {
   "cell_type": "code",
   "execution_count": 3,
   "id": "a34de768",
   "metadata": {},
   "outputs": [],
   "source": [
    "from qiskit.primitives import Estimator\n",
    "import numpy as np\n",
    "from qiskit.algorithms.minimum_eigensolvers import VQE\n",
    "from qiskit.algorithms.optimizers import COBYLA, L_BFGS_B, SLSQP\n",
    "from qiskit.utils import algorithm_globals\n",
    "\n"
   ]
  },
  {
   "cell_type": "code",
   "execution_count": 265,
   "id": "fd379160",
   "metadata": {},
   "outputs": [
    {
     "name": "stdout",
     "output_type": "stream",
     "text": [
      "\r",
      "Optimizer: SLSQP        {   'aux_operators_evaluated': None,\n",
      "    'cost_function_evals': 7,\n",
      "    'eigenvalue': -1.151028713547112,\n",
      "    'optimal_circuit': <qiskit.circuit.quantumcircuit.QuantumCircuit object at 0x7fc2bd350d90>,\n",
      "    'optimal_parameters': {   Parameter(lam): 4.942180456993617,\n",
      "                              Parameter(phi): 4.282196304983521,\n",
      "                              Parameter(theta1): 4.042913762630213,\n",
      "                              Parameter(lam1): 3.3732780618537337,\n",
      "                              Parameter(phi1): 1.0525740390738823,\n",
      "                              Parameter(theta): 2.6614136001737934},\n",
      "    'optimal_point': array([4.94218046, 3.37327806, 4.2821963 , 1.05257404, 2.6614136 ,\n",
      "       4.04291376]),\n",
      "    'optimal_value': -1.151028713547112,\n",
      "    'optimizer_evals': None,\n",
      "    'optimizer_result': <qiskit.algorithms.optimizers.optimizer.OptimizerResult object at 0x7fc2bdadac90>,\n",
      "    'optimizer_time': 0.014505386352539062}\n",
      "\r",
      "Optimization complete      \n"
     ]
    }
   ],
   "source": [
    "estimator = Estimator()\n",
    "optimizers = [SLSQP(maxiter=0)]\n",
    "converge_counts = np.empty([len(optimizers)], dtype=object)\n",
    "converge_vals = np.empty([len(optimizers)], dtype=object)\n",
    "\n",
    "for i, optimizer in enumerate(optimizers):\n",
    "    print(\"\\rOptimizer: {}        \".format(type(optimizer).__name__), end=\"\")\n",
    "    algorithm_globals.random_seed = 0\n",
    "    \n",
    "    ansatz = circ\n",
    "    counts = []\n",
    "    values = []\n",
    "    \n",
    "    def store_intermediate_result(eval_count, parameters, mean, std):\n",
    "        counts.append(eval_count)\n",
    "        values.append(mean)\n",
    "    \n",
    "    k = np.random.rand(6)*np.pi*2 #pick random points\n",
    "    \n",
    "    vqe = VQE(estimator, ansatz, optimizer, initial_point = k, callback=store_intermediate_result)\n",
    "    \n",
    "    result = vqe.compute_minimum_eigenvalue(operator=H2_op)\n",
    "    \n",
    "    print(result)\n",
    "    converge_counts[i] = np.asarray(counts)\n",
    "    converge_vals[i] = np.asarray(values)\n",
    "\n",
    "print(\"\\rOptimization complete      \");\n",
    "\n",
    "\n",
    "\n",
    "# # ######################data saving\n",
    "# existing_data = pd.read_csv('output2.csv')\n",
    "\n",
    "# # New data\n",
    "# new_data1 = result.optimal_point[0]\n",
    "# new_data2 = result.optimal_point[1]\n",
    "# new_data3 = result.optimal_point[2]\n",
    "# new_data4 = result.optimal_point[3]\n",
    "# new_data5 = result.optimal_point[4]\n",
    "# new_data6 = result.optimal_point[5]\n",
    "# new_data7 = result.eigenvalue\n",
    "# # Create a new DataFrame for the new data\n",
    "# df_new = pd.DataFrame({'Param1': [new_data1], 'Param2': [new_data2], 'Param3': [new_data3], 'Param4': [new_data4], \n",
    "#                        'Param5': [new_data5], 'Param6': [new_data6], 'Eigenvalue':[new_data7]})\n",
    "# # Concatenate the existing and new dataframes\n",
    "# df_combined = pd.concat([existing_data, df_new], ignore_index=True)\n",
    "\n",
    "# # Save the combined DataFrame to the CSV file without column labels\n",
    "# df_combined.to_csv('output2.csv', index=False)"
   ]
  },
  {
   "cell_type": "code",
   "execution_count": 7,
   "id": "e04315d5",
   "metadata": {},
   "outputs": [],
   "source": [
    "import pandas as pd\n",
    "data1 = result.optimal_point[0]\n",
    "data2 = result.optimal_point[1]\n",
    "data3 = result.optimal_point[2]\n",
    "data4 = result.optimal_point[3]\n",
    "data5 = result.optimal_point[4]\n",
    "data6 = result.optimal_point[5]\n",
    "data7 = result.eigenvalue\n",
    "\n",
    "\n",
    "df = pd.DataFrame({'Param1': [data1], 'Param2': [data2], 'Param3': [data3], 'Param4': [data4],\n",
    "                   'Param5': [data5], 'Param6': [data6], 'Eigenvalue':[data7]})\n",
    "df.to_csv('output2.csv', index=False)"
   ]
  }
 ],
 "metadata": {
  "kernelspec": {
   "display_name": "Python 3 (ipykernel)",
   "language": "python",
   "name": "python3"
  },
  "language_info": {
   "codemirror_mode": {
    "name": "ipython",
    "version": 3
   },
   "file_extension": ".py",
   "mimetype": "text/x-python",
   "name": "python",
   "nbconvert_exporter": "python",
   "pygments_lexer": "ipython3",
   "version": "3.11.0"
  }
 },
 "nbformat": 4,
 "nbformat_minor": 5
}
